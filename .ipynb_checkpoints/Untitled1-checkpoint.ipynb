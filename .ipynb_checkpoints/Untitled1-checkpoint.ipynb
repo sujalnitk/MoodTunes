{
 "cells": [
  {
   "cell_type": "code",
   "execution_count": 1,
   "id": "78133255",
   "metadata": {},
   "outputs": [],
   "source": [
    "from tensorflow.keras.models import load_model"
   ]
  },
  {
   "cell_type": "code",
   "execution_count": 2,
   "id": "05dbb6e6",
   "metadata": {},
   "outputs": [],
   "source": [
    "# getting song based on mood\n",
    "def recommend(emotion:list):\n",
    "  encodings = tokenizer(emotions , max_length = 128 , padding = 'max_length' , truncation = True , return_tensors = 'tf')\n",
    "  emotion_input_ids = encodings['input_ids']\n",
    "  emotion_attention_mask = encodings['attention_mask']\n",
    "\n",
    "  pred = model1.predict([emotion_input_ids,emotion_attention_mask])\n",
    "  pred = np.argmax(pred)\n",
    "\n",
    "  print(f\"Your mood is : {dit[pred]}\")\n",
    "\n",
    "  if (pred == 0):\n",
    "    filter = mood[mood['mood'] == \"Sad\"]\n",
    "    f1 = filter.dropna()\n",
    "    f2 = f1.sample(5)\n",
    "    display(f2)\n",
    "\n",
    "  elif (pred == 4):\n",
    "    filter = mood[mood['mood'] == \"Calm\"]\n",
    "    f1 = filter.dropna()\n",
    "    f2 = f1.sample(5)\n",
    "    display(f2)\n",
    "\n",
    "  elif (pred == 1 or pred == 3):\n",
    "    filter = mood[mood['mood'] == \"Energetic\"]\n",
    "    f1 = filter.dropna()\n",
    "    f2 = f1.sample(5)\n",
    "    display(f2)\n",
    "\n",
    "  else :\n",
    "    filter = mood[mood['mood'] == \"Happy\"]\n",
    "    f1 = filter.dropna()\n",
    "    f2 = f1.sample(5)\n",
    "    display(f2)\n"
   ]
  },
  {
   "cell_type": "code",
   "execution_count": null,
   "id": "f21f0333",
   "metadata": {},
   "outputs": [],
   "source": []
  }
 ],
 "metadata": {
  "kernelspec": {
   "display_name": "Python 3 (ipykernel)",
   "language": "python",
   "name": "python3"
  },
  "language_info": {
   "codemirror_mode": {
    "name": "ipython",
    "version": 3
   },
   "file_extension": ".py",
   "mimetype": "text/x-python",
   "name": "python",
   "nbconvert_exporter": "python",
   "pygments_lexer": "ipython3",
   "version": "3.11.5"
  }
 },
 "nbformat": 4,
 "nbformat_minor": 5
}
